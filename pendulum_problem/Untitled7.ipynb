{
 "cells": [
  {
   "cell_type": "code",
   "execution_count": 1,
   "metadata": {},
   "outputs": [],
   "source": [
    "# train simple rl again"
   ]
  },
  {
   "cell_type": "code",
   "execution_count": 2,
   "metadata": {},
   "outputs": [],
   "source": [
    "import gym\n",
    "import numpy as np\n",
    "import argparse\n",
    "from itertools import count\n",
    "from collections import deque\n",
    "\n",
    "import torch\n",
    "import torch.nn as nn\n",
    "import torch.optim as optim\n",
    "import torch.nn.functional as F\n",
    "\n",
    "from drawnow import drawnow\n",
    "import matplotlib.pyplot as plt"
   ]
  },
  {
   "cell_type": "code",
   "execution_count": 5,
   "metadata": {},
   "outputs": [],
   "source": [
    "class FLAGS():\n",
    "    lr = 1e-3 # learning rate\n",
    "    gamma = 0.9 # discount factor\n",
    "    epsilon_start = 0.9 # epsilon start\n",
    "    epsilon_end = 0.05 # epsilon end\n",
    "    target_update = 10 # target update \n",
    "    batch_size = 512 # batch size\n",
    "    max_episode = 512 # number of episodes to train"
   ]
  },
  {
   "cell_type": "code",
   "execution_count": 6,
   "metadata": {},
   "outputs": [],
   "source": [
    "cfg = FLAGS()"
   ]
  },
  {
   "cell_type": "code",
   "execution_count": 27,
   "metadata": {},
   "outputs": [],
   "source": [
    "env = gym.make('CartPole-v0')\n",
    "device = torch.device(\"cuda:02\")"
   ]
  },
  {
   "cell_type": "code",
   "execution_count": 28,
   "metadata": {},
   "outputs": [],
   "source": [
    "class Memory(object):\n",
    "    def __init__(self, memory_size=10000):\n",
    "        self.memory = deque(maxlen=memory_size)\n",
    "        self.memory_size = memory_size\n",
    "        \n",
    "    def __len__(self):\n",
    "        return len(self.memory)\n",
    "    \n",
    "    def append(self, item):\n",
    "        self.memory.append(item)\n",
    "        \n",
    "    def sample_batch(self, batch_size):\n",
    "        idx = np.random.permutation(len(self.memory))[:batch_size]\n",
    "        return [self.memory[i] for i in idx]"
   ]
  },
  {
   "cell_type": "code",
   "execution_count": 29,
   "metadata": {},
   "outputs": [],
   "source": [
    "# to memorize the past transitions\n",
    "memory = Memory(10000)"
   ]
  },
  {
   "cell_type": "code",
   "execution_count": 30,
   "metadata": {},
   "outputs": [],
   "source": [
    "class DQN(nn.Module):\n",
    "    def __init__(self):\n",
    "        super(DQN, self).__init__()\n",
    "        self.fc1 = nn.Linear(4, 64)\n",
    "        self.fc3 = nn.Linear(64, 2)\n",
    "    def forward(self, x):\n",
    "        x = F.elu(self.fc1(x))\n",
    "        x = self.fc3(x)\n",
    "        return xfactionzzx"
   ]
  },
  {
   "cell_type": "code",
   "execution_count": 35,
   "metadata": {},
   "outputs": [
    {
     "data": {
      "text/plain": [
       "<All keys matched successfully>"
      ]
     },
     "execution_count": 35,
     "metadata": {},
     "output_type": "execute_result"
    }
   ],
   "source": [
    "policy_net = DQN().to(device)\n",
    "target_net = DQN().to(device)\n",
    "target_net.load_state_dict(policy_net.state_dict())"
   ]
  },
  {
   "cell_type": "code",
   "execution_count": 85,
   "metadata": {},
   "outputs": [],
   "source": [
    "def update_network(states, actions, next_states, rewards, dones):\n",
    "    \n",
    "    # update network:\n",
    "    \n",
    "    state_action_values = policy_net(states.to(device)).gather(1, actions[:, None].long().to(device)).squeeze()\n",
    "    next_state_values = torch.max(target_net(next_states.to(device)), dim=1)[0].detach()\n",
    "    expected_state_action_values = rewards.to(device) + next_state_values * (1 - dones.to(device)) * cfg.gamma\n",
    "\n",
    "    expected_state_action_values = expected_state_action_values.to(device)\n",
    "\n",
    "    loss = F.mse_loss(state_action_values, expected_state_action_values)\n",
    "\n",
    "    optimizer.zero_grad()\n",
    "    loss.backward()\n",
    "    optimizer.step()"
   ]
  },
  {
   "cell_type": "code",
   "execution_count": 113,
   "metadata": {},
   "outputs": [
    {
     "data": {
      "text/plain": [
       "torch.Size([512, 4])"
      ]
     },
     "execution_count": 113,
     "metadata": {},
     "output_type": "execute_result"
    }
   ],
   "source": [
    "next_states.shape"
   ]
  },
  {
   "cell_type": "code",
   "execution_count": 119,
   "metadata": {},
   "outputs": [],
   "source": [
    "a = torch.max(target_net(torch.rand(2,4).to(device)), dim=1)"
   ]
  },
  {
   "cell_type": "code",
   "execution_count": 120,
   "metadata": {},
   "outputs": [
    {
     "data": {
      "text/plain": [
       "torch.return_types.max(\n",
       "values=tensor([ 6.2942, -4.2964], device='cuda:2', grad_fn=<MaxBackward0>),\n",
       "indices=tensor([1, 1], device='cuda:2'))"
      ]
     },
     "execution_count": 120,
     "metadata": {},
     "output_type": "execute_result"
    }
   ],
   "source": [
    "a"
   ]
  },
  {
   "cell_type": "code",
   "execution_count": 121,
   "metadata": {},
   "outputs": [
    {
     "data": {
      "text/plain": [
       "tensor([ 6.2942, -4.2964], device='cuda:2', grad_fn=<MaxBackward0>)"
      ]
     },
     "execution_count": 121,
     "metadata": {},
     "output_type": "execute_result"
    }
   ],
   "source": [
    "a[0]"
   ]
  },
  {
   "cell_type": "code",
   "execution_count": 111,
   "metadata": {},
   "outputs": [
    {
     "data": {
      "text/plain": [
       "tensor([5.1487, 7.6316], device='cuda:2', grad_fn=<SqueezeBackward0>)"
      ]
     },
     "execution_count": 111,
     "metadata": {},
     "output_type": "execute_result"
    }
   ],
   "source": [
    "policy_net(torch.rand(2,4).to(device)).gather(1, torch.tensor([1,1])[:, None].long().to(device)).squeeze()"
   ]
  },
  {
   "cell_type": "code",
   "execution_count": 86,
   "metadata": {},
   "outputs": [
    {
     "data": {
      "text/plain": [
       "tensor([[2.5736, 3.3400]], device='cuda:2', grad_fn=<AddmmBackward>)"
      ]
     },
     "execution_count": 86,
     "metadata": {},
     "output_type": "execute_result"
    }
   ],
   "source": [
    "policy_net.forward(torch.rand((1,4)).to(device))"
   ]
  },
  {
   "cell_type": "code",
   "execution_count": 87,
   "metadata": {},
   "outputs": [],
   "source": [
    "def get_action(state, epsilon):\n",
    "    with torch.no_grad():\n",
    "        greedy_action = torch.argmax(policy_net(state.to(device)), dim=1).item()\n",
    "        random_action = np.random.randint(0, 2)\n",
    "    return random_action if np.random.rand() < epsilon else greedy_action"
   ]
  },
  {
   "cell_type": "code",
   "execution_count": 88,
   "metadata": {},
   "outputs": [],
   "source": [
    "optimizer = optim.RMSprop(policy_net.parameters(), lr=cfg.lr, weight_decay=1e-4)"
   ]
  },
  {
   "cell_type": "code",
   "execution_count": 89,
   "metadata": {},
   "outputs": [],
   "source": [
    "last_score_plot = [0]\n",
    "avg_score_plot = [0]"
   ]
  },
  {
   "cell_type": "code",
   "execution_count": 93,
   "metadata": {},
   "outputs": [
    {
     "data": {
      "text/plain": [
       "(0.05, 0.9)"
      ]
     },
     "execution_count": 93,
     "metadata": {},
     "output_type": "execute_result"
    }
   ],
   "source": [
    "cfg.epsilon_end, cfg.epsilon_start"
   ]
  },
  {
   "cell_type": "code",
   "execution_count": 100,
   "metadata": {},
   "outputs": [
    {
     "data": {
      "text/plain": [
       "0.050000000000000044"
      ]
     },
     "execution_count": 100,
     "metadata": {},
     "output_type": "execute_result"
    }
   ],
   "source": [
    "z = 512\n",
    "a = (cfg.epsilon_end-cfg.epsilon_start)*(z/512)+cfg.epsilon_start\n",
    "a"
   ]
  },
  {
   "cell_type": "code",
   "execution_count": 103,
   "metadata": {},
   "outputs": [
    {
     "data": {
      "text/plain": [
       "tensor([[-0.0333, -0.5662,  0.1039,  0.9675]])"
      ]
     },
     "execution_count": 103,
     "metadata": {},
     "output_type": "execute_result"
    }
   ],
   "source": [
    "torch.tensor(state).float()[None, :]"
   ]
  },
  {
   "cell_type": "code",
   "execution_count": 97,
   "metadata": {},
   "outputs": [
    {
     "name": "stdout",
     "output_type": "stream",
     "text": [
      "torch.Size([512, 4])\n",
      "torch.Size([512, 4])\n",
      "torch.Size([512, 4])\n",
      "torch.Size([512, 4])\n",
      "torch.Size([512, 4])\n",
      "torch.Size([512, 4])\n",
      "torch.Size([512, 4])\n",
      "torch.Size([512, 4])\n",
      "torch.Size([512, 4])\n",
      "torch.Size([512, 4])\n",
      "torch.Size([512, 4])\n",
      "torch.Size([512, 4])\n",
      "torch.Size([512, 4])\n",
      "torch.Size([512, 4])\n",
      "torch.Size([512, 4])\n",
      "torch.Size([512, 4])\n",
      "torch.Size([512, 4])\n",
      "torch.Size([512, 4])\n",
      "torch.Size([512, 4])\n",
      "torch.Size([512, 4])\n",
      "torch.Size([512, 4])\n",
      "torch.Size([512, 4])\n",
      "torch.Size([512, 4])\n",
      "torch.Size([512, 4])\n",
      "torch.Size([512, 4])\n",
      "torch.Size([512, 4])\n",
      "torch.Size([512, 4])\n",
      "torch.Size([512, 4])\n",
      "torch.Size([512, 4])\n",
      "torch.Size([512, 4])\n",
      "torch.Size([512, 4])\n",
      "torch.Size([512, 4])\n",
      "torch.Size([512, 4])\n",
      "torch.Size([512, 4])\n",
      "torch.Size([512, 4])\n",
      "torch.Size([512, 4])\n",
      "torch.Size([512, 4])\n",
      "torch.Size([512, 4])\n",
      "torch.Size([512, 4])\n",
      "torch.Size([512, 4])\n",
      "torch.Size([512, 4])\n",
      "torch.Size([512, 4])\n",
      "torch.Size([512, 4])\n",
      "torch.Size([512, 4])\n",
      "torch.Size([512, 4])\n",
      "torch.Size([512, 4])\n",
      "torch.Size([512, 4])\n",
      "torch.Size([512, 4])\n",
      "torch.Size([512, 4])\n",
      "torch.Size([512, 4])\n",
      "torch.Size([512, 4])\n",
      "torch.Size([512, 4])\n",
      "torch.Size([512, 4])\n",
      "torch.Size([512, 4])\n",
      "0\n",
      "torch.Size([512, 4])\n",
      "torch.Size([512, 4])\n",
      "torch.Size([512, 4])\n",
      "torch.Size([512, 4])\n",
      "torch.Size([512, 4])\n",
      "torch.Size([512, 4])\n",
      "torch.Size([512, 4])\n",
      "torch.Size([512, 4])\n",
      "torch.Size([512, 4])\n",
      "torch.Size([512, 4])\n",
      "torch.Size([512, 4])\n",
      "torch.Size([512, 4])\n",
      "torch.Size([512, 4])\n",
      "torch.Size([512, 4])\n",
      "torch.Size([512, 4])\n",
      "torch.Size([512, 4])\n",
      "torch.Size([512, 4])\n",
      "torch.Size([512, 4])\n",
      "torch.Size([512, 4])\n",
      "torch.Size([512, 4])\n",
      "torch.Size([512, 4])\n",
      "torch.Size([512, 4])\n",
      "torch.Size([512, 4])\n",
      "torch.Size([512, 4])\n",
      "torch.Size([512, 4])\n",
      "torch.Size([512, 4])\n",
      "torch.Size([512, 4])\n",
      "torch.Size([512, 4])\n",
      "torch.Size([512, 4])\n",
      "torch.Size([512, 4])\n",
      "torch.Size([512, 4])\n",
      "torch.Size([512, 4])\n",
      "torch.Size([512, 4])\n",
      "torch.Size([512, 4])\n",
      "torch.Size([512, 4])\n",
      "torch.Size([512, 4])\n",
      "torch.Size([512, 4])\n",
      "torch.Size([512, 4])\n",
      "torch.Size([512, 4])\n",
      "torch.Size([512, 4])\n",
      "torch.Size([512, 4])\n",
      "torch.Size([512, 4])\n",
      "torch.Size([512, 4])\n",
      "torch.Size([512, 4])\n",
      "torch.Size([512, 4])\n",
      "torch.Size([512, 4])\n",
      "torch.Size([512, 4])\n",
      "torch.Size([512, 4])\n",
      "torch.Size([512, 4])\n",
      "torch.Size([512, 4])\n",
      "torch.Size([512, 4])\n",
      "torch.Size([512, 4])\n",
      "torch.Size([512, 4])\n",
      "torch.Size([512, 4])\n",
      "torch.Size([512, 4])\n",
      "torch.Size([512, 4])\n",
      "torch.Size([512, 4])\n",
      "torch.Size([512, 4])\n",
      "torch.Size([512, 4])\n",
      "torch.Size([512, 4])\n",
      "torch.Size([512, 4])\n",
      "torch.Size([512, 4])\n",
      "torch.Size([512, 4])\n",
      "torch.Size([512, 4])\n",
      "torch.Size([512, 4])\n",
      "torch.Size([512, 4])\n",
      "torch.Size([512, 4])\n",
      "torch.Size([512, 4])\n",
      "torch.Size([512, 4])\n",
      "torch.Size([512, 4])\n",
      "torch.Size([512, 4])\n",
      "torch.Size([512, 4])\n",
      "torch.Size([512, 4])\n",
      "torch.Size([512, 4])\n",
      "torch.Size([512, 4])\n",
      "torch.Size([512, 4])\n",
      "torch.Size([512, 4])\n",
      "torch.Size([512, 4])\n",
      "torch.Size([512, 4])\n",
      "torch.Size([512, 4])\n",
      "torch.Size([512, 4])\n",
      "torch.Size([512, 4])\n",
      "torch.Size([512, 4])\n",
      "torch.Size([512, 4])\n",
      "torch.Size([512, 4])\n",
      "torch.Size([512, 4])\n",
      "torch.Size([512, 4])\n",
      "torch.Size([512, 4])\n",
      "torch.Size([512, 4])\n",
      "torch.Size([512, 4])\n",
      "torch.Size([512, 4])\n",
      "torch.Size([512, 4])\n",
      "torch.Size([512, 4])\n",
      "torch.Size([512, 4])\n",
      "torch.Size([512, 4])\n",
      "torch.Size([512, 4])\n",
      "torch.Size([512, 4])\n",
      "torch.Size([512, 4])\n",
      "torch.Size([512, 4])\n",
      "torch.Size([512, 4])\n",
      "torch.Size([512, 4])\n",
      "torch.Size([512, 4])\n",
      "torch.Size([512, 4])\n",
      "torch.Size([512, 4])\n",
      "torch.Size([512, 4])\n",
      "torch.Size([512, 4])\n",
      "torch.Size([512, 4])\n",
      "torch.Size([512, 4])\n",
      "torch.Size([512, 4])\n",
      "torch.Size([512, 4])\n",
      "torch.Size([512, 4])\n",
      "torch.Size([512, 4])\n",
      "torch.Size([512, 4])\n",
      "torch.Size([512, 4])\n",
      "torch.Size([512, 4])\n",
      "torch.Size([512, 4])\n",
      "torch.Size([512, 4])\n",
      "torch.Size([512, 4])\n",
      "torch.Size([512, 4])\n",
      "torch.Size([512, 4])\n",
      "torch.Size([512, 4])\n",
      "torch.Size([512, 4])\n",
      "torch.Size([512, 4])\n",
      "torch.Size([512, 4])\n",
      "torch.Size([512, 4])\n",
      "torch.Size([512, 4])\n",
      "torch.Size([512, 4])\n",
      "torch.Size([512, 4])\n",
      "torch.Size([512, 4])\n",
      "torch.Size([512, 4])\n",
      "torch.Size([512, 4])\n",
      "torch.Size([512, 4])\n",
      "torch.Size([512, 4])\n",
      "torch.Size([512, 4])\n",
      "torch.Size([512, 4])\n",
      "torch.Size([512, 4])\n",
      "torch.Size([512, 4])\n",
      "torch.Size([512, 4])\n",
      "torch.Size([512, 4])\n",
      "torch.Size([512, 4])\n",
      "torch.Size([512, 4])\n",
      "torch.Size([512, 4])\n",
      "torch.Size([512, 4])\n",
      "torch.Size([512, 4])\n",
      "torch.Size([512, 4])\n",
      "torch.Size([512, 4])\n",
      "torch.Size([512, 4])\n",
      "torch.Size([512, 4])\n",
      "torch.Size([512, 4])\n",
      "torch.Size([512, 4])\n",
      "torch.Size([512, 4])\n",
      "torch.Size([512, 4])\n",
      "torch.Size([512, 4])\n",
      "torch.Size([512, 4])\n",
      "torch.Size([512, 4])\n",
      "torch.Size([512, 4])\n",
      "torch.Size([512, 4])\n",
      "torch.Size([512, 4])\n",
      "torch.Size([512, 4])\n",
      "torch.Size([512, 4])\n",
      "torch.Size([512, 4])\n",
      "torch.Size([512, 4])\n",
      "torch.Size([512, 4])\n",
      "torch.Size([512, 4])\n",
      "torch.Size([512, 4])\n",
      "torch.Size([512, 4])\n",
      "torch.Size([512, 4])\n",
      "torch.Size([512, 4])\n",
      "torch.Size([512, 4])\n",
      "torch.Size([512, 4])\n",
      "torch.Size([512, 4])\n",
      "torch.Size([512, 4])\n",
      "torch.Size([512, 4])\n",
      "torch.Size([512, 4])\n",
      "torch.Size([512, 4])\n",
      "torch.Size([512, 4])\n",
      "torch.Size([512, 4])\n",
      "torch.Size([512, 4])\n",
      "torch.Size([512, 4])\n",
      "torch.Size([512, 4])\n",
      "torch.Size([512, 4])\n",
      "torch.Size([512, 4])\n",
      "torch.Size([512, 4])\n",
      "torch.Size([512, 4])\n",
      "torch.Size([512, 4])\n",
      "torch.Size([512, 4])\n",
      "torch.Size([512, 4])\n",
      "torch.Size([512, 4])\n",
      "torch.Size([512, 4])\n",
      "torch.Size([512, 4])\n",
      "torch.Size([512, 4])\n",
      "torch.Size([512, 4])\n",
      "torch.Size([512, 4])\n",
      "torch.Size([512, 4])\n",
      "torch.Size([512, 4])\n",
      "torch.Size([512, 4])\n",
      "torch.Size([512, 4])\n",
      "torch.Size([512, 4])\n",
      "torch.Size([512, 4])\n",
      "torch.Size([512, 4])\n",
      "torch.Size([512, 4])\n",
      "torch.Size([512, 4])\n",
      "torch.Size([512, 4])\n",
      "torch.Size([512, 4])\n",
      "torch.Size([512, 4])\n",
      "torch.Size([512, 4])\n",
      "torch.Size([512, 4])\n",
      "torch.Size([512, 4])\n",
      "torch.Size([512, 4])\n",
      "torch.Size([512, 4])\n",
      "torch.Size([512, 4])\n",
      "torch.Size([512, 4])\n",
      "torch.Size([512, 4])\n",
      "torch.Size([512, 4])\n",
      "torch.Size([512, 4])\n",
      "torch.Size([512, 4])\n",
      "torch.Size([512, 4])\n",
      "torch.Size([512, 4])\n",
      "torch.Size([512, 4])\n",
      "torch.Size([512, 4])\n",
      "torch.Size([512, 4])\n",
      "torch.Size([512, 4])\n",
      "torch.Size([512, 4])\n",
      "torch.Size([512, 4])\n",
      "torch.Size([512, 4])\n",
      "torch.Size([512, 4])\n",
      "torch.Size([512, 4])\n",
      "torch.Size([512, 4])\n",
      "torch.Size([512, 4])\n",
      "torch.Size([512, 4])\n",
      "torch.Size([512, 4])\n",
      "torch.Size([512, 4])\n",
      "torch.Size([512, 4])\n",
      "torch.Size([512, 4])\n",
      "torch.Size([512, 4])\n",
      "torch.Size([512, 4])\n",
      "torch.Size([512, 4])\n",
      "torch.Size([512, 4])\n",
      "torch.Size([512, 4])\n",
      "torch.Size([512, 4])\n",
      "torch.Size([512, 4])\n",
      "torch.Size([512, 4])\n",
      "torch.Size([512, 4])\n",
      "torch.Size([512, 4])\n",
      "torch.Size([512, 4])\n",
      "torch.Size([512, 4])\n",
      "torch.Size([512, 4])\n",
      "torch.Size([512, 4])\n",
      "torch.Size([512, 4])\n",
      "torch.Size([512, 4])\n",
      "torch.Size([512, 4])\n",
      "torch.Size([512, 4])\n",
      "torch.Size([512, 4])\n",
      "torch.Size([512, 4])\n",
      "torch.Size([512, 4])\n",
      "torch.Size([512, 4])\n",
      "torch.Size([512, 4])\n",
      "torch.Size([512, 4])\n",
      "torch.Size([512, 4])\n",
      "torch.Size([512, 4])\n",
      "torch.Size([512, 4])\n",
      "torch.Size([512, 4])\n",
      "torch.Size([512, 4])\n",
      "torch.Size([512, 4])\n",
      "torch.Size([512, 4])\n",
      "torch.Size([512, 4])\n",
      "torch.Size([512, 4])\n",
      "torch.Size([512, 4])\n",
      "torch.Size([512, 4])\n",
      "torch.Size([512, 4])\n",
      "torch.Size([512, 4])\n",
      "torch.Size([512, 4])\n",
      "torch.Size([512, 4])\n",
      "torch.Size([512, 4])\n",
      "torch.Size([512, 4])\n",
      "torch.Size([512, 4])\n",
      "torch.Size([512, 4])\n",
      "torch.Size([512, 4])\n",
      "torch.Size([512, 4])\n",
      "torch.Size([512, 4])\n",
      "torch.Size([512, 4])\n",
      "torch.Size([512, 4])\n",
      "torch.Size([512, 4])\n",
      "torch.Size([512, 4])\n",
      "torch.Size([512, 4])\n",
      "torch.Size([512, 4])\n",
      "torch.Size([512, 4])\n",
      "torch.Size([512, 4])\n",
      "torch.Size([512, 4])\n",
      "torch.Size([512, 4])\n",
      "torch.Size([512, 4])\n",
      "torch.Size([512, 4])\n",
      "torch.Size([512, 4])\n",
      "torch.Size([512, 4])\n",
      "torch.Size([512, 4])\n",
      "torch.Size([512, 4])\n",
      "torch.Size([512, 4])\n",
      "torch.Size([512, 4])\n",
      "torch.Size([512, 4])\n",
      "torch.Size([512, 4])\n",
      "torch.Size([512, 4])\n",
      "torch.Size([512, 4])\n",
      "torch.Size([512, 4])\n",
      "torch.Size([512, 4])\n",
      "torch.Size([512, 4])\n",
      "torch.Size([512, 4])\n",
      "torch.Size([512, 4])\n",
      "torch.Size([512, 4])\n",
      "torch.Size([512, 4])\n",
      "torch.Size([512, 4])\n",
      "torch.Size([512, 4])\n",
      "torch.Size([512, 4])\n",
      "torch.Size([512, 4])\n",
      "torch.Size([512, 4])\n",
      "torch.Size([512, 4])\n",
      "torch.Size([512, 4])\n",
      "torch.Size([512, 4])\n",
      "torch.Size([512, 4])\n",
      "torch.Size([512, 4])\n",
      "torch.Size([512, 4])\n",
      "torch.Size([512, 4])\n",
      "torch.Size([512, 4])\n",
      "torch.Size([512, 4])\n",
      "torch.Size([512, 4])\n",
      "torch.Size([512, 4])\n",
      "torch.Size([512, 4])\n",
      "torch.Size([512, 4])\n",
      "torch.Size([512, 4])\n",
      "torch.Size([512, 4])\n",
      "torch.Size([512, 4])\n",
      "10\n",
      "torch.Size([512, 4])\n",
      "torch.Size([512, 4])\n",
      "torch.Size([512, 4])\n",
      "torch.Size([512, 4])\n",
      "torch.Size([512, 4])\n",
      "torch.Size([512, 4])\n",
      "torch.Size([512, 4])\n",
      "torch.Size([512, 4])\n",
      "torch.Size([512, 4])\n",
      "torch.Size([512, 4])\n",
      "torch.Size([512, 4])\n",
      "torch.Size([512, 4])\n",
      "torch.Size([512, 4])\n",
      "torch.Size([512, 4])\n",
      "torch.Size([512, 4])\n",
      "torch.Size([512, 4])\n",
      "torch.Size([512, 4])\n",
      "torch.Size([512, 4])\n",
      "torch.Size([512, 4])\n",
      "torch.Size([512, 4])\n",
      "torch.Size([512, 4])\n",
      "torch.Size([512, 4])\n",
      "torch.Size([512, 4])\n",
      "torch.Size([512, 4])\n",
      "torch.Size([512, 4])\n",
      "torch.Size([512, 4])\n",
      "torch.Size([512, 4])\n"
     ]
    },
    {
     "name": "stdout",
     "output_type": "stream",
     "text": [
      "torch.Size([512, 4])\n",
      "torch.Size([512, 4])\n",
      "torch.Size([512, 4])\n",
      "torch.Size([512, 4])\n",
      "torch.Size([512, 4])\n",
      "torch.Size([512, 4])\n",
      "torch.Size([512, 4])\n",
      "torch.Size([512, 4])\n",
      "torch.Size([512, 4])\n",
      "torch.Size([512, 4])\n",
      "torch.Size([512, 4])\n",
      "torch.Size([512, 4])\n",
      "torch.Size([512, 4])\n",
      "torch.Size([512, 4])\n",
      "torch.Size([512, 4])\n",
      "torch.Size([512, 4])\n",
      "torch.Size([512, 4])\n",
      "torch.Size([512, 4])\n",
      "torch.Size([512, 4])\n",
      "torch.Size([512, 4])\n",
      "torch.Size([512, 4])\n",
      "torch.Size([512, 4])\n",
      "torch.Size([512, 4])\n",
      "torch.Size([512, 4])\n",
      "torch.Size([512, 4])\n",
      "torch.Size([512, 4])\n",
      "torch.Size([512, 4])\n",
      "torch.Size([512, 4])\n",
      "torch.Size([512, 4])\n",
      "torch.Size([512, 4])\n",
      "torch.Size([512, 4])\n",
      "torch.Size([512, 4])\n",
      "torch.Size([512, 4])\n",
      "torch.Size([512, 4])\n",
      "torch.Size([512, 4])\n",
      "torch.Size([512, 4])\n",
      "torch.Size([512, 4])\n",
      "torch.Size([512, 4])\n",
      "torch.Size([512, 4])\n",
      "torch.Size([512, 4])\n",
      "torch.Size([512, 4])\n",
      "torch.Size([512, 4])\n",
      "torch.Size([512, 4])\n",
      "torch.Size([512, 4])\n",
      "torch.Size([512, 4])\n",
      "torch.Size([512, 4])\n",
      "torch.Size([512, 4])\n",
      "torch.Size([512, 4])\n",
      "torch.Size([512, 4])\n",
      "torch.Size([512, 4])\n",
      "torch.Size([512, 4])\n",
      "torch.Size([512, 4])\n",
      "torch.Size([512, 4])\n",
      "torch.Size([512, 4])\n",
      "torch.Size([512, 4])\n",
      "torch.Size([512, 4])\n",
      "torch.Size([512, 4])\n",
      "torch.Size([512, 4])\n",
      "torch.Size([512, 4])\n",
      "torch.Size([512, 4])\n",
      "torch.Size([512, 4])\n",
      "torch.Size([512, 4])\n",
      "torch.Size([512, 4])\n",
      "torch.Size([512, 4])\n",
      "torch.Size([512, 4])\n",
      "torch.Size([512, 4])\n",
      "torch.Size([512, 4])\n",
      "torch.Size([512, 4])\n",
      "torch.Size([512, 4])\n",
      "torch.Size([512, 4])\n",
      "torch.Size([512, 4])\n",
      "torch.Size([512, 4])\n",
      "torch.Size([512, 4])\n",
      "torch.Size([512, 4])\n",
      "torch.Size([512, 4])\n",
      "torch.Size([512, 4])\n",
      "torch.Size([512, 4])\n",
      "torch.Size([512, 4])\n",
      "torch.Size([512, 4])\n"
     ]
    },
    {
     "ename": "KeyboardInterrupt",
     "evalue": "",
     "output_type": "error",
     "traceback": [
      "\u001b[0;31m---------------------------------------------------------------------------\u001b[0m",
      "\u001b[0;31mKeyboardInterrupt\u001b[0m                         Traceback (most recent call last)",
      "\u001b[0;32m<ipython-input-97-898fb460c06f>\u001b[0m in \u001b[0;36m<module>\u001b[0;34m\u001b[0m\n\u001b[1;32m     15\u001b[0m             \u001b[0mmap\u001b[0m\u001b[0;34m(\u001b[0m\u001b[0;32mlambda\u001b[0m \u001b[0mx\u001b[0m\u001b[0;34m:\u001b[0m \u001b[0mtorch\u001b[0m\u001b[0;34m.\u001b[0m\u001b[0mtensor\u001b[0m\u001b[0;34m(\u001b[0m\u001b[0mx\u001b[0m\u001b[0;34m)\u001b[0m\u001b[0;34m.\u001b[0m\u001b[0mfloat\u001b[0m\u001b[0;34m(\u001b[0m\u001b[0;34m)\u001b[0m\u001b[0;34m,\u001b[0m \u001b[0mzip\u001b[0m\u001b[0;34m(\u001b[0m\u001b[0;34m*\u001b[0m\u001b[0mmemory\u001b[0m\u001b[0;34m.\u001b[0m\u001b[0msample_batch\u001b[0m\u001b[0;34m(\u001b[0m\u001b[0mcfg\u001b[0m\u001b[0;34m.\u001b[0m\u001b[0mbatch_size\u001b[0m\u001b[0;34m)\u001b[0m\u001b[0;34m)\u001b[0m\u001b[0;34m)\u001b[0m\u001b[0;34m\u001b[0m\u001b[0;34m\u001b[0m\u001b[0m\n\u001b[1;32m     16\u001b[0m \u001b[0;34m\u001b[0m\u001b[0m\n\u001b[0;32m---> 17\u001b[0;31m             \u001b[0mupdate_network\u001b[0m\u001b[0;34m(\u001b[0m\u001b[0mstates\u001b[0m\u001b[0;34m,\u001b[0m \u001b[0mactions\u001b[0m\u001b[0;34m,\u001b[0m \u001b[0mnext_states\u001b[0m\u001b[0;34m,\u001b[0m \u001b[0mrewards\u001b[0m\u001b[0;34m,\u001b[0m \u001b[0mdones\u001b[0m\u001b[0;34m)\u001b[0m\u001b[0;34m\u001b[0m\u001b[0;34m\u001b[0m\u001b[0m\n\u001b[0m\u001b[1;32m     18\u001b[0m \u001b[0;34m\u001b[0m\u001b[0m\n\u001b[1;32m     19\u001b[0m         \u001b[0;32mif\u001b[0m \u001b[0mdone\u001b[0m\u001b[0;34m:\u001b[0m\u001b[0;34m\u001b[0m\u001b[0;34m\u001b[0m\u001b[0m\n",
      "\u001b[0;32m<ipython-input-85-50de859aa7d1>\u001b[0m in \u001b[0;36mupdate_network\u001b[0;34m(states, actions, next_states, rewards, dones)\u001b[0m\n\u001b[1;32m      4\u001b[0m     \u001b[0mstate_action_values\u001b[0m \u001b[0;34m=\u001b[0m \u001b[0mpolicy_net\u001b[0m\u001b[0;34m(\u001b[0m\u001b[0mstates\u001b[0m\u001b[0;34m.\u001b[0m\u001b[0mto\u001b[0m\u001b[0;34m(\u001b[0m\u001b[0mdevice\u001b[0m\u001b[0;34m)\u001b[0m\u001b[0;34m)\u001b[0m\u001b[0;34m.\u001b[0m\u001b[0mgather\u001b[0m\u001b[0;34m(\u001b[0m\u001b[0;36m1\u001b[0m\u001b[0;34m,\u001b[0m \u001b[0mactions\u001b[0m\u001b[0;34m[\u001b[0m\u001b[0;34m:\u001b[0m\u001b[0;34m,\u001b[0m \u001b[0;32mNone\u001b[0m\u001b[0;34m]\u001b[0m\u001b[0;34m.\u001b[0m\u001b[0mlong\u001b[0m\u001b[0;34m(\u001b[0m\u001b[0;34m)\u001b[0m\u001b[0;34m.\u001b[0m\u001b[0mto\u001b[0m\u001b[0;34m(\u001b[0m\u001b[0mdevice\u001b[0m\u001b[0;34m)\u001b[0m\u001b[0;34m)\u001b[0m\u001b[0;34m.\u001b[0m\u001b[0msqueeze\u001b[0m\u001b[0;34m(\u001b[0m\u001b[0;34m)\u001b[0m\u001b[0;34m.\u001b[0m\u001b[0mto\u001b[0m\u001b[0;34m(\u001b[0m\u001b[0mdevice\u001b[0m\u001b[0;34m)\u001b[0m\u001b[0;34m\u001b[0m\u001b[0;34m\u001b[0m\u001b[0m\n\u001b[1;32m      5\u001b[0m     \u001b[0mnext_state_values\u001b[0m \u001b[0;34m=\u001b[0m \u001b[0mtorch\u001b[0m\u001b[0;34m.\u001b[0m\u001b[0mmax\u001b[0m\u001b[0;34m(\u001b[0m\u001b[0mtarget_net\u001b[0m\u001b[0;34m(\u001b[0m\u001b[0mnext_states\u001b[0m\u001b[0;34m.\u001b[0m\u001b[0mto\u001b[0m\u001b[0;34m(\u001b[0m\u001b[0mdevice\u001b[0m\u001b[0;34m)\u001b[0m\u001b[0;34m)\u001b[0m\u001b[0;34m,\u001b[0m \u001b[0mdim\u001b[0m\u001b[0;34m=\u001b[0m\u001b[0;36m1\u001b[0m\u001b[0;34m)\u001b[0m\u001b[0;34m[\u001b[0m\u001b[0;36m0\u001b[0m\u001b[0;34m]\u001b[0m\u001b[0;34m.\u001b[0m\u001b[0mdetach\u001b[0m\u001b[0;34m(\u001b[0m\u001b[0;34m)\u001b[0m\u001b[0;34m\u001b[0m\u001b[0;34m\u001b[0m\u001b[0m\n\u001b[0;32m----> 6\u001b[0;31m     \u001b[0mexpected_state_action_values\u001b[0m \u001b[0;34m=\u001b[0m \u001b[0mrewards\u001b[0m\u001b[0;34m.\u001b[0m\u001b[0mto\u001b[0m\u001b[0;34m(\u001b[0m\u001b[0mdevice\u001b[0m\u001b[0;34m)\u001b[0m \u001b[0;34m+\u001b[0m \u001b[0mnext_state_values\u001b[0m \u001b[0;34m*\u001b[0m \u001b[0;34m(\u001b[0m\u001b[0;36m1\u001b[0m \u001b[0;34m-\u001b[0m \u001b[0mdones\u001b[0m\u001b[0;34m.\u001b[0m\u001b[0mto\u001b[0m\u001b[0;34m(\u001b[0m\u001b[0mdevice\u001b[0m\u001b[0;34m)\u001b[0m\u001b[0;34m)\u001b[0m \u001b[0;34m*\u001b[0m \u001b[0mcfg\u001b[0m\u001b[0;34m.\u001b[0m\u001b[0mgamma\u001b[0m\u001b[0;34m\u001b[0m\u001b[0;34m\u001b[0m\u001b[0m\n\u001b[0m\u001b[1;32m      7\u001b[0m \u001b[0;34m\u001b[0m\u001b[0m\n\u001b[1;32m      8\u001b[0m     \u001b[0mexpected_state_action_values\u001b[0m \u001b[0;34m=\u001b[0m \u001b[0mexpected_state_action_values\u001b[0m\u001b[0;34m.\u001b[0m\u001b[0mto\u001b[0m\u001b[0;34m(\u001b[0m\u001b[0mdevice\u001b[0m\u001b[0;34m)\u001b[0m\u001b[0;34m\u001b[0m\u001b[0;34m\u001b[0m\u001b[0m\n",
      "\u001b[0;31mKeyboardInterrupt\u001b[0m: "
     ]
    }
   ],
   "source": [
    "for i in range(cfg.max_episode):\n",
    "    episode_durations = 0\n",
    "    state = env.reset()\n",
    "    epsilon = (cfg.epsilon_end - cfg.epsilon_start) * (i / cfg.max_episode) + cfg.epsilon_start\n",
    "\n",
    "    for t in count():\n",
    "        action = get_action(torch.tensor(state).float()[None, :], epsilon)\n",
    "        next_state, reward, done, _ = env.step(action)\n",
    "\n",
    "        memory.append([state, action, next_state, reward, done])\n",
    "        state = next_state\n",
    "\n",
    "        if len(memory) > cfg.batch_size:\n",
    "            states, actions, next_states, rewards, dones = \\\n",
    "            map(lambda x: torch.tensor(x).float(), zip(*memory.sample_batch(cfg.batch_size)))\n",
    "\n",
    "            update_network(states, actions, next_states, rewards, dones)\n",
    "\n",
    "        if done:\n",
    "            episode_durations = t + 1\n",
    "            avg_score_plot.append(avg_score_plot[-1] * 0.99 + episode_durations * 0.01)\n",
    "            last_score_plot.append(episode_durations)\n",
    "            #drawnow(draw_fig)\n",
    "            break\n",
    "\n",
    "    # Update the target network\n",
    "    if i % cfg.target_update == 0:\n",
    "        target_net.load_state_dict(policy_net.state_dict())\n",
    "        \n",
    "        \n",
    "    if i % 10 == 0:\n",
    "        print(i)"
   ]
  },
  {
   "cell_type": "code",
   "execution_count": null,
   "metadata": {},
   "outputs": [],
   "source": []
  }
 ],
 "metadata": {
  "kernelspec": {
   "display_name": "Python 3",
   "language": "python",
   "name": "python3"
  },
  "language_info": {
   "codemirror_mode": {
    "name": "ipython",
    "version": 3
   },
   "file_extension": ".py",
   "mimetype": "text/x-python",
   "name": "python",
   "nbconvert_exporter": "python",
   "pygments_lexer": "ipython3",
   "version": "3.8.2"
  }
 },
 "nbformat": 4,
 "nbformat_minor": 4
}
