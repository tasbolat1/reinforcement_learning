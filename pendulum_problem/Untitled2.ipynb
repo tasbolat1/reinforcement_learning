{
 "cells": [
  {
   "cell_type": "code",
   "execution_count": 22,
   "metadata": {},
   "outputs": [],
   "source": [
    "import matplotlib.pyplot as plt\n",
    "import gym"
   ]
  },
  {
   "cell_type": "code",
   "execution_count": 48,
   "metadata": {},
   "outputs": [],
   "source": [
    "from IPython import display\n",
    "%matplotlib inline\n",
    "\n",
    "env = gym.make('CartPole-v0')\n",
    "# obs: [pos, vel, pole angle, pole vel]"
   ]
  },
  {
   "cell_type": "code",
   "execution_count": 24,
   "metadata": {},
   "outputs": [
    {
     "data": {
      "image/png": "[encoded data removed]",
      "text/plain": [
       "<Figure size 432x288 with 1 Axes>"
      ]
     },
     "metadata": {
      "needs_background": "light"
     },
     "output_type": "display_data"
    }
   ],
   "source": [
    "env.reset()\n",
    "for i in range(25):\n",
    "    plt.imshow(env.render(mode='rgb_array'))\n",
    "    display.display(plt.gcf())    \n",
    "    display.clear_output(wait=True)\n",
    "    if env.step(env.action_space.sample()): # take a random action\n",
    "        env.reset()\n",
    "env.close()"
   ]
  },
  {
   "cell_type": "code",
   "execution_count": 25,
   "metadata": {},
   "outputs": [
    {
     "data": {
      "text/plain": [
       "1"
      ]
     },
     "execution_count": 25,
     "metadata": {},
     "output_type": "execute_result"
    }
   ],
   "source": [
    "env.action_space.sample()"
   ]
  },
  {
   "cell_type": "code",
   "execution_count": 46,
   "metadata": {},
   "outputs": [
    {
     "ename": "TypeError",
     "evalue": "reset() takes 1 positional argument but 2 were given",
     "output_type": "error",
     "traceback": [
      "\u001b[0;31m---------------------------------------------------------------------------\u001b[0m",
      "\u001b[0;31mTypeError\u001b[0m                                 Traceback (most recent call last)",
      "\u001b[0;32m<ipython-input-46-5c2de2848a34>\u001b[0m in \u001b[0;36m<module>\u001b[0;34m\u001b[0m\n\u001b[0;32m----> 1\u001b[0;31m \u001b[0menv\u001b[0m\u001b[0;34m.\u001b[0m\u001b[0mreset\u001b[0m\u001b[0;34m(\u001b[0m\u001b[0;34m[\u001b[0m \u001b[0;36m0.09873619\u001b[0m\u001b[0;34m,\u001b[0m  \u001b[0;36m1.57178834\u001b[0m\u001b[0;34m,\u001b[0m \u001b[0;34m-\u001b[0m\u001b[0;36m0.21522303\u001b[0m\u001b[0;34m,\u001b[0m \u001b[0;34m-\u001b[0m\u001b[0;36m2.57415784\u001b[0m\u001b[0;34m]\u001b[0m\u001b[0;34m)\u001b[0m\u001b[0;34m\u001b[0m\u001b[0;34m\u001b[0m\u001b[0m\n\u001b[0m",
      "\u001b[0;31mTypeError\u001b[0m: reset() takes 1 positional argument but 2 were given"
     ]
    }
   ],
   "source": [
    "env.reset()"
   ]
  },
  {
   "cell_type": "code",
   "execution_count": 41,
   "metadata": {},
   "outputs": [
    {
     "data": {
      "image/png": "[encoded data removed]",
      "text/plain": [
       "<Figure size 432x288 with 1 Axes>"
      ]
     },
     "metadata": {
      "needs_background": "light"
     },
     "output_type": "display_data"
    }
   ],
   "source": [
    "env.reset()\n",
    "for i in range(25):\n",
    "    plt.imshow(env.render(mode='rgb_array'))\n",
    "    display.display(plt.gcf())    \n",
    "    display.clear_output(wait=True)\n",
    "    obs, rew, done, info = env.step(1) # take a random action\n",
    "    if done:\n",
    "        break\n",
    "env.close()"
   ]
  },
  {
   "cell_type": "code",
   "execution_count": 51,
   "metadata": {},
   "outputs": [
    {
     "data": {
      "text/plain": [
       "array([ 0.04389167, -0.0326951 ,  0.02691476,  0.04194739])"
      ]
     },
     "execution_count": 51,
     "metadata": {},
     "output_type": "execute_result"
    }
   ],
   "source": [
    "env.reset()"
   ]
  },
  {
   "cell_type": "code",
   "execution_count": 52,
   "metadata": {},
   "outputs": [],
   "source": [
    "env.state = [0, 0, 0, 0]"
   ]
  },
  {
   "cell_type": "code",
   "execution_count": 53,
   "metadata": {},
   "outputs": [
    {
     "data": {
      "text/plain": [
       "[0, 0, 0, 0]"
      ]
     },
     "execution_count": 53,
     "metadata": {},
     "output_type": "execute_result"
    }
   ],
   "source": [
    "env.state"
   ]
  },
  {
   "cell_type": "code",
   "execution_count": 54,
   "metadata": {},
   "outputs": [
    {
     "data": {
      "text/plain": [
       "<matplotlib.image.AxesImage at 0x7fc3348dd850>"
      ]
     },
     "execution_count": 54,
     "metadata": {},
     "output_type": "execute_result"
    },
    {
     "data": {
      "image/png": "[encoded data removed]",
      "text/plain": [
       "<Figure size 432x288 with 1 Axes>"
      ]
     },
     "metadata": {
      "needs_background": "light"
     },
     "output_type": "display_data"
    }
   ],
   "source": [
    "plt.imshow(env.render(mode='rgb_array'))"
   ]
  },
  {
   "cell_type": "code",
   "execution_count": 57,
   "metadata": {},
   "outputs": [],
   "source": [
    "from copy import deepcopy\n",
    "\n",
    "import gym\n",
    "import numpy as np\n",
    "from gym.spaces import Discrete, Dict, Box\n",
    "\n",
    "\n",
    "class CartPole:\n",
    "    def __init__(self, config=None):\n",
    "        self.env = gym.make(\"CartPole-v0\")\n",
    "        self.action_space = Discrete(2)\n",
    "        self.observation_space = self.env.observation_space\n",
    "\n",
    "    def reset(self):\n",
    "        return self.env.reset()\n",
    "\n",
    "    def step(self, action):\n",
    "        obs, rew, done, info = self.env.step(action)\n",
    "        return obs, rew, done, info\n",
    "\n",
    "    def set_state(self, state):\n",
    "        self.env = deepcopy(state)\n",
    "        obs = np.array(list(self.env.unwrapped.state))\n",
    "        return obs\n",
    "\n",
    "    def get_state(self):\n",
    "        return deepcopy(self.env)\n",
    "\n",
    "    def render(self):\n",
    "        self.env.render()\n",
    "\n",
    "    def close(self):\n",
    "        self.env.close()"
   ]
  },
  {
   "cell_type": "code",
   "execution_count": 58,
   "metadata": {},
   "outputs": [],
   "source": [
    "env = CartPole()"
   ]
  },
  {
   "cell_type": "code",
   "execution_count": 61,
   "metadata": {},
   "outputs": [
    {
     "data": {
      "text/plain": [
       "array([ 0.01173644, -0.00272318,  0.03760874, -0.01941255])"
      ]
     },
     "execution_count": 61,
     "metadata": {},
     "output_type": "execute_result"
    }
   ],
   "source": [
    "env.reset()"
   ]
  },
  {
   "cell_type": "code",
   "execution_count": 62,
   "metadata": {},
   "outputs": [
    {
     "ename": "AttributeError",
     "evalue": "'list' object has no attribute 'unwrapped'",
     "output_type": "error",
     "traceback": [
      "\u001b[0;31m---------------------------------------------------------------------------\u001b[0m",
      "\u001b[0;31mAttributeError\u001b[0m                            Traceback (most recent call last)",
      "\u001b[0;32m<ipython-input-62-ba2b144891ef>\u001b[0m in \u001b[0;36m<module>\u001b[0;34m\u001b[0m\n\u001b[0;32m----> 1\u001b[0;31m \u001b[0menv\u001b[0m\u001b[0;34m.\u001b[0m\u001b[0mset_state\u001b[0m\u001b[0;34m(\u001b[0m\u001b[0;34m[\u001b[0m \u001b[0;36m0.01173644\u001b[0m\u001b[0;34m,\u001b[0m \u001b[0;34m-\u001b[0m\u001b[0;36m0.00272318\u001b[0m\u001b[0;34m,\u001b[0m  \u001b[0;36m0.03760874\u001b[0m\u001b[0;34m,\u001b[0m \u001b[0;34m-\u001b[0m\u001b[0;36m0.01941255\u001b[0m\u001b[0;34m]\u001b[0m\u001b[0;34m)\u001b[0m\u001b[0;34m\u001b[0m\u001b[0;34m\u001b[0m\u001b[0m\n\u001b[0m",
      "\u001b[0;32m<ipython-input-57-406d605676ba>\u001b[0m in \u001b[0;36mset_state\u001b[0;34m(self, state)\u001b[0m\n\u001b[1;32m     21\u001b[0m     \u001b[0;32mdef\u001b[0m \u001b[0mset_state\u001b[0m\u001b[0;34m(\u001b[0m\u001b[0mself\u001b[0m\u001b[0;34m,\u001b[0m \u001b[0mstate\u001b[0m\u001b[0;34m)\u001b[0m\u001b[0;34m:\u001b[0m\u001b[0;34m\u001b[0m\u001b[0;34m\u001b[0m\u001b[0m\n\u001b[1;32m     22\u001b[0m         \u001b[0mself\u001b[0m\u001b[0;34m.\u001b[0m\u001b[0menv\u001b[0m \u001b[0;34m=\u001b[0m \u001b[0mdeepcopy\u001b[0m\u001b[0;34m(\u001b[0m\u001b[0mstate\u001b[0m\u001b[0;34m)\u001b[0m\u001b[0;34m\u001b[0m\u001b[0;34m\u001b[0m\u001b[0m\n\u001b[0;32m---> 23\u001b[0;31m         \u001b[0mobs\u001b[0m \u001b[0;34m=\u001b[0m \u001b[0mnp\u001b[0m\u001b[0;34m.\u001b[0m\u001b[0marray\u001b[0m\u001b[0;34m(\u001b[0m\u001b[0mlist\u001b[0m\u001b[0;34m(\u001b[0m\u001b[0mself\u001b[0m\u001b[0;34m.\u001b[0m\u001b[0menv\u001b[0m\u001b[0;34m.\u001b[0m\u001b[0munwrapped\u001b[0m\u001b[0;34m.\u001b[0m\u001b[0mstate\u001b[0m\u001b[0;34m)\u001b[0m\u001b[0;34m)\u001b[0m\u001b[0;34m\u001b[0m\u001b[0;34m\u001b[0m\u001b[0m\n\u001b[0m\u001b[1;32m     24\u001b[0m         \u001b[0;32mreturn\u001b[0m \u001b[0mobs\u001b[0m\u001b[0;34m\u001b[0m\u001b[0;34m\u001b[0m\u001b[0m\n\u001b[1;32m     25\u001b[0m \u001b[0;34m\u001b[0m\u001b[0m\n",
      "\u001b[0;31mAttributeError\u001b[0m: 'list' object has no attribute 'unwrapped'"
     ]
    }
   ],
   "source": [
    "env.set_state([ 0.01173644, -0.00272318,  0.03760874, -0.01941255])"
   ]
  },
  {
   "cell_type": "code",
   "execution_count": 84,
   "metadata": {},
   "outputs": [
    {
     "data": {
      "text/plain": [
       "False"
      ]
     },
     "execution_count": 84,
     "metadata": {},
     "output_type": "execute_result"
    }
   ],
   "source": [
    "env.action_space.contains(-1)"
   ]
  },
  {
   "cell_type": "code",
   "execution_count": 95,
   "metadata": {},
   "outputs": [
    {
     "data": {
      "text/plain": [
       "array([4.8000002e+00, 3.4028235e+38, 4.1887903e-01, 3.4028235e+38],\n",
       "      dtype=float32)"
      ]
     },
     "execution_count": 95,
     "metadata": {},
     "output_type": "execute_result"
    }
   ],
   "source": [
    "env.observation_space.high"
   ]
  },
  {
   "cell_type": "code",
   "execution_count": 99,
   "metadata": {},
   "outputs": [],
   "source": [
    "env.action_space = Box(low=np.array([-1.0]), high=np.array([-1.0]), dtype=np.float64)"
   ]
  },
  {
   "cell_type": "code",
   "execution_count": 107,
   "metadata": {},
   "outputs": [
    {
     "data": {
      "text/plain": [
       "Box(1,)"
      ]
     },
     "execution_count": 107,
     "metadata": {},
     "output_type": "execute_result"
    }
   ],
   "source": [
    "env.action_space"
   ]
  },
  {
   "cell_type": "code",
   "execution_count": 102,
   "metadata": {},
   "outputs": [
    {
     "ename": "AssertionError",
     "evalue": "array([0.1]) (<class 'numpy.ndarray'>) invalid",
     "output_type": "error",
     "traceback": [
      "\u001b[0;31m---------------------------------------------------------------------------\u001b[0m",
      "\u001b[0;31mAssertionError\u001b[0m                            Traceback (most recent call last)",
      "\u001b[0;32m<ipython-input-102-82f6e82463f6>\u001b[0m in \u001b[0;36m<module>\u001b[0;34m\u001b[0m\n\u001b[1;32m      7\u001b[0m     \u001b[0mdisplay\u001b[0m\u001b[0;34m.\u001b[0m\u001b[0mdisplay\u001b[0m\u001b[0;34m(\u001b[0m\u001b[0mplt\u001b[0m\u001b[0;34m.\u001b[0m\u001b[0mgcf\u001b[0m\u001b[0;34m(\u001b[0m\u001b[0;34m)\u001b[0m\u001b[0;34m)\u001b[0m\u001b[0;34m\u001b[0m\u001b[0;34m\u001b[0m\u001b[0m\n\u001b[1;32m      8\u001b[0m     \u001b[0mdisplay\u001b[0m\u001b[0;34m.\u001b[0m\u001b[0mclear_output\u001b[0m\u001b[0;34m(\u001b[0m\u001b[0mwait\u001b[0m\u001b[0;34m=\u001b[0m\u001b[0;32mTrue\u001b[0m\u001b[0;34m)\u001b[0m\u001b[0;34m\u001b[0m\u001b[0;34m\u001b[0m\u001b[0m\n\u001b[0;32m----> 9\u001b[0;31m     \u001b[0mobs\u001b[0m\u001b[0;34m,\u001b[0m \u001b[0mrew\u001b[0m\u001b[0;34m,\u001b[0m \u001b[0mdone\u001b[0m\u001b[0;34m,\u001b[0m \u001b[0m_\u001b[0m \u001b[0;34m=\u001b[0m \u001b[0menv\u001b[0m\u001b[0;34m.\u001b[0m\u001b[0mstep\u001b[0m\u001b[0;34m(\u001b[0m\u001b[0mnp\u001b[0m\u001b[0;34m.\u001b[0m\u001b[0marray\u001b[0m\u001b[0;34m(\u001b[0m\u001b[0;34m[\u001b[0m\u001b[0;36m0.1\u001b[0m\u001b[0;34m]\u001b[0m\u001b[0;34m)\u001b[0m\u001b[0;34m)\u001b[0m\u001b[0;34m\u001b[0m\u001b[0;34m\u001b[0m\u001b[0m\n\u001b[0m\u001b[1;32m     10\u001b[0m     \u001b[0;32mif\u001b[0m \u001b[0mdone\u001b[0m\u001b[0;34m:\u001b[0m\u001b[0;34m\u001b[0m\u001b[0;34m\u001b[0m\u001b[0m\n\u001b[1;32m     11\u001b[0m         \u001b[0;32mbreak\u001b[0m\u001b[0;34m\u001b[0m\u001b[0;34m\u001b[0m\u001b[0m\n",
      "\u001b[0;32m~/tas_python_env/lib/python3.8/site-packages/gym/envs/classic_control/cartpole.py\u001b[0m in \u001b[0;36mstep\u001b[0;34m(self, action)\u001b[0m\n\u001b[1;32m    102\u001b[0m     \u001b[0;32mdef\u001b[0m \u001b[0mstep\u001b[0m\u001b[0;34m(\u001b[0m\u001b[0mself\u001b[0m\u001b[0;34m,\u001b[0m \u001b[0maction\u001b[0m\u001b[0;34m)\u001b[0m\u001b[0;34m:\u001b[0m\u001b[0;34m\u001b[0m\u001b[0;34m\u001b[0m\u001b[0m\n\u001b[1;32m    103\u001b[0m         \u001b[0merr_msg\u001b[0m \u001b[0;34m=\u001b[0m \u001b[0;34m\"%r (%s) invalid\"\u001b[0m \u001b[0;34m%\u001b[0m \u001b[0;34m(\u001b[0m\u001b[0maction\u001b[0m\u001b[0;34m,\u001b[0m \u001b[0mtype\u001b[0m\u001b[0;34m(\u001b[0m\u001b[0maction\u001b[0m\u001b[0;34m)\u001b[0m\u001b[0;34m)\u001b[0m\u001b[0;34m\u001b[0m\u001b[0;34m\u001b[0m\u001b[0m\n\u001b[0;32m--> 104\u001b[0;31m         \u001b[0;32massert\u001b[0m \u001b[0mself\u001b[0m\u001b[0;34m.\u001b[0m\u001b[0maction_space\u001b[0m\u001b[0;34m.\u001b[0m\u001b[0mcontains\u001b[0m\u001b[0;34m(\u001b[0m\u001b[0maction\u001b[0m\u001b[0;34m)\u001b[0m\u001b[0;34m,\u001b[0m \u001b[0merr_msg\u001b[0m\u001b[0;34m\u001b[0m\u001b[0;34m\u001b[0m\u001b[0m\n\u001b[0m\u001b[1;32m    105\u001b[0m \u001b[0;34m\u001b[0m\u001b[0m\n\u001b[1;32m    106\u001b[0m         \u001b[0mx\u001b[0m\u001b[0;34m,\u001b[0m \u001b[0mx_dot\u001b[0m\u001b[0;34m,\u001b[0m \u001b[0mtheta\u001b[0m\u001b[0;34m,\u001b[0m \u001b[0mtheta_dot\u001b[0m \u001b[0;34m=\u001b[0m \u001b[0mself\u001b[0m\u001b[0;34m.\u001b[0m\u001b[0mstate\u001b[0m\u001b[0;34m\u001b[0m\u001b[0;34m\u001b[0m\u001b[0m\n",
      "\u001b[0;31mAssertionError\u001b[0m: array([0.1]) (<class 'numpy.ndarray'>) invalid"
     ]
    },
    {
     "data": {
      "image/png": "[encoded data removed]",
      "text/plain": [
       "<Figure size 432x288 with 1 Axes>"
      ]
     },
     "metadata": {
      "needs_background": "light"
     },
     "output_type": "display_data"
    }
   ],
   "source": [
    "env.reset()\n",
    "env.state = np.array([0, 0, 0, 0])\n",
    "print(env.state)\n",
    "\n",
    "for i in range(25):\n",
    "    plt.imshow(env.render(mode='rgb_array'))\n",
    "    display.display(plt.gcf())    \n",
    "    display.clear_output(wait=True)\n",
    "    obs, rew, done, _ = env.step(np.array([0.1]))\n",
    "    if done:\n",
    "        break\n",
    "env.close()"
   ]
  },
  {
   "cell_type": "code",
   "execution_count": 108,
   "metadata": {},
   "outputs": [],
   "source": [
    "env = gym.make(\"MountainCarContinuous-v0\").unwrapped"
   ]
  },
  {
   "cell_type": "code",
   "execution_count": 116,
   "metadata": {},
   "outputs": [],
   "source": [
    "import copy"
   ]
  },
  {
   "cell_type": "code",
   "execution_count": 118,
   "metadata": {},
   "outputs": [],
   "source": [
    "a = copy.deepcopy( env.action_space )"
   ]
  },
  {
   "cell_type": "code",
   "execution_count": 121,
   "metadata": {},
   "outputs": [
    {
     "data": {
      "text/plain": [
       "True"
      ]
     },
     "execution_count": 121,
     "metadata": {},
     "output_type": "execute_result"
    }
   ],
   "source": [
    "a.contains([-0.1])"
   ]
  },
  {
   "cell_type": "code",
   "execution_count": 129,
   "metadata": {},
   "outputs": [
    {
     "name": "stderr",
     "output_type": "stream",
     "text": [
      "/home/tasbolat/tas_python_env/lib/python3.8/site-packages/gym/logger.py:30: UserWarning: \u001b[33mWARN: Box bound precision lowered by casting to float32\u001b[0m\n",
      "  warnings.warn(colorize('%s: %s'%('WARN', msg % args), 'yellow'))\n"
     ]
    }
   ],
   "source": [
    "b = Box(low=np.array([-1.0]), high=np.array([1.0]))"
   ]
  },
  {
   "cell_type": "code",
   "execution_count": 132,
   "metadata": {},
   "outputs": [
    {
     "data": {
      "text/plain": [
       "True"
      ]
     },
     "execution_count": 132,
     "metadata": {},
     "output_type": "execute_result"
    }
   ],
   "source": [
    "b.contains([1.0])"
   ]
  },
  {
   "cell_type": "code",
   "execution_count": 66,
   "metadata": {},
   "outputs": [
    {
     "name": "stdout",
     "output_type": "stream",
     "text": [
      "[0 0 0 0]\n",
      "[ 0.          0.19512195  0.         -0.29268293] (0.0, 0.1951219512195122, 0.0, -0.2926829268292683)\n",
      "[ 0.00390244  0.3902439  -0.00585366 -0.58536585] (0.0039024390243902443, 0.3902439024390244, -0.005853658536585366, -0.5853658536585366)\n",
      "[ 0.01170732  0.58544736 -0.01756098 -0.87988698] (0.011707317073170733, 0.585447355516259, -0.0175609756097561, -0.8798869825388553)\n",
      "[ 0.02341626  0.78080343 -0.03515872 -1.17803858] (0.023416264183495912, 0.7808034338579373, -0.035158715260533206, -1.1780385785990666)\n",
      "[ 0.03903233  0.97636392 -0.05871949 -1.48153256] (0.03903233286065466, 0.9763639236140543, -0.05871948683251454, -1.4815325603291771)\n",
      "[ 0.05855961  1.17215106 -0.08835014 -1.79196071] (0.058559611332935746, 1.1721510553135377, -0.08835013803909808, -1.79196071115366)\n",
      "[ 0.08200263  1.36814542 -0.12418935 -2.11074675] (0.0820026324392065, 1.3681454181757822, -0.12418935226217129, -2.1107467512963214)\n",
      "[ 0.10936554  1.56427156 -0.16640429 -2.43908813] (0.10936554080272214, 1.5642715615169862, -0.16640428728809772, -2.4390881298455973)\n",
      "[ 0.14065097  1.76038113 -0.21518605 -2.77788649] (0.14065097203306187, 1.7603811257683097, -0.21518604988500967, -2.777886494012814)\n",
      "[ 0.17585859  1.95623383 -0.27074378 -3.12766761] (0.17585859454842806, 1.9562338250740894, -0.2707437797652659, -3.127667606081298)\n",
      "[ 0.21498327  2.15147734 -0.33329713 -3.48849422] (0.21498327104990986, 2.1514773394178808, -0.33329713188689186, -3.488494221541697)\n",
      "[ 0.25801282  2.3456282  -0.40306702 -3.85987916] (0.25801281783826746, 2.3456282024909534, -0.4030670163177258, -3.85987916436016)\n",
      "[ 0.30492538  2.53805705 -0.4802646  -4.24071021] (0.30492538188808654, 2.5380570496237573, -0.480264599604929, -4.240710206665768)\n",
      "[ 0.35568652  2.72798293 -0.5650788  -4.62920241] (0.3556865228805617, 2.727982934450844, -0.5650788037382444, -4.629202405762216)\n",
      "[ 0.41024618  2.91448246 -0.65766285 -5.02289548] (0.4102461815695786, 2.9144824580004647, -0.6576628518534887, -5.022895476093312)\n",
      "[ 0.46853583  3.09651963 -0.75812076 -5.41871113] (0.4685358307295879, 3.0965196273053524, -0.758120761375355, -5.418711126826092)\n",
      "[ 0.53046622  3.27300109 -0.86649498 -5.81307577] (0.5304662232756949, 3.273001091998265, -0.8664949839118768, -5.81307576941704)\n",
      "[ 0.59592625  3.4428584  -0.9827565  -6.20209693] (0.5959262451156602, 3.442858395692161, -0.9827564993002177, -6.202096925719063)\n",
      "[ 0.66478341  3.60515447 -1.10679844 -6.58175968] (0.6647834130295034, 3.6051544688744372, -1.106798437814599, -6.581759676900819)\n",
      "[ 0.7368865   3.75920693 -1.23843363 -6.94808912] (0.7368865024069922, 3.75920693171973, -1.2384336313526154, -6.948089124138992)\n",
      "[ 0.81207064  3.90471747 -1.37739541 -7.29721489] (0.8120706410413867, 3.904717471421477, -1.3773954138353952, -7.297214892177586)\n",
      "[ 0.89016499  4.04189575 -1.52333971 -7.62528162] (0.8901649904698162, 4.041895745837795, -1.5233397116789469, -7.625281617582254)\n",
      "[ 0.97100291  4.17156756 -1.67584534 -7.92817783] (0.9710029053865721, 4.171567559144426, -1.675845344030592, -7.9281778301656445)\n",
      "[ 1.05443426  4.29525811 -1.8344089  -8.2011026 ] (1.0544342565694607, 4.295258109982084, -1.834408900633905, -8.20110260387019)\n",
      "[ 1.14033942  4.41523835 -1.99843095 -8.43805148] (1.1403394187691023, 4.415238347389954, -1.9984309527113089, -8.438051480021445)\n",
      "[ 1.22864419  4.53451302 -2.16719198 -8.63137824] (1.2286441857169013, 4.534513023872594, -2.1671919823117376, -8.63137824470334)\n",
      "[ 1.31933445  4.65671381 -2.33981955 -8.77167   ] (1.319334446194353, 4.656713809114604, -2.3398195472058045, -8.77167000072299)\n",
      "[ 1.41246872  4.78584836 -2.51525295 -8.84822878] (1.412468722376645, 4.785848361857881, -2.5152529472202643, -8.848228775088492)\n",
      "[ 1.50818569  4.9258654  -2.69221752 -8.85040843] (1.5081856896138026, 4.925865403770035, -2.692217522722034, -8.85040843338111)\n",
      "[ 1.606703    5.08005022 -2.86922569 -8.76980712] (1.6067029976892033, 5.0800502244499, -2.8692256913896563, -8.769807120743568)\n",
      "[ 1.708304    5.25036955 -3.04462183 -8.60283539] (1.7083040021782012, 5.250369548330481, -3.044621833804528, -8.602835391704406)\n",
      "[ 1.81331139  5.43699081 -3.21667854 -8.35268337] (1.8133113931448108, 5.436990812725083, -3.216678541638616, -8.352683372862323)\n",
      "[ 1.92205121  5.63820868 -3.38373221 -8.02965249] (1.9220512093993125, 5.638208681242942, -3.3837322090958626, -8.029652489705429)\n",
      "[ 2.03481538  5.85085736 -3.54432526 -7.64948941] (2.0348153830241715, 5.85085735827123, -3.544325258889971, -7.6494894066210595)\n",
      "[ 2.15183253  6.07105008 -3.69731505 -7.23039709] (2.151832530189596, 6.071050078112953, -3.6973150470223923, -7.230397091549365)\n",
      "[ 2.27325353  6.29494715 -3.84192299 -6.78998788] (2.273253531751855, 6.294947152689134, -3.8419229888533795, -6.78998788095269)\n",
      "[ 2.39915247  6.51930577 -3.97772275 -6.34318684] (2.3991524748056374, 6.519305767701973, -3.977722746472433, -6.343186842042569)\n",
      "[ 2.52953859  6.74172899 -4.10458648 -5.9013742 ] (2.5295385901596767, 6.741728989813062, -4.104586483313285, -5.901374195797155)\n",
      "[ 2.66437317  6.9606701  -4.22261397 -5.47248377] (2.664373169955938, 6.960670104719357, -4.222613967229228, -5.472483771929565)\n",
      "[ 2.80358657  7.17529919 -4.33206364 -5.0615957 ] (2.8035865720503255, 7.175299190087739, -4.332063642667819, -5.061595696009996)\n",
      "[ 2.94709256  7.38532355 -4.43329556 -4.67165511] (2.9470925558520804, 7.3853235549858285, -4.433295556588019, -4.671655106163593)\n",
      "[ 3.09479903  7.59081668 -4.52672866 -4.30411608] (3.094799026951797, 7.590816683499471, -4.526728658711291, -4.304116080163964)\n",
      "[ 3.24661536  7.7920788  -4.61281098 -3.95944046] (3.2466153606217865, 7.7920787992168705, -4.6128109803145705, -3.959440460200347)\n",
      "[ 3.40245694  7.98953335 -4.69199979 -3.6374524 ] (3.4024569366061237, 7.989533349730589, -4.691999789518578, -3.6374523988268286)\n",
      "[ 3.5622476   8.18365517 -4.76474884 -3.33757694] (3.5622476036007353, 8.183655167517287, -4.764748837495114, -3.3375769385710337)\n",
      "[ 3.72592071  8.3749235  -4.83150038 -3.05899517] (3.725920706951081, 8.37492349638574, -4.8315003762665345, -3.058995165515074)\n",
      "[ 3.89341918  8.56379327 -4.89268028 -2.80074334] (3.893419176878796, 8.563793267136653, -4.892680279576836, -2.8007433441234264)\n",
      "[ 4.06469504  8.75067916 -4.94869515 -2.56177613] (4.064695042221529, 8.750679164462444, -4.948695146459304, -2.5617761349948833)\n",
      "[ 4.23970863  8.93594832 -4.99993067 -2.34100747] (4.239708625510778, 8.935948322868745, -4.999930669159202, -2.3410074693189866)\n",
      "[ 4.41842759  9.11991862 -5.04675082 -2.13733773] (4.418427591968152, 9.119918616161643, -5.046750818545582, -2.1373377279262735)\n"
     ]
    }
   ],
   "source": [
    "import gym\n",
    "import numpy as np\n",
    "env = gym.make(\"CartPole-v0\").unwrapped\n",
    "env.state = np.array([0, 0, 0, 0])\n",
    "print(env.state)\n",
    "\n",
    "for i in range(50):\n",
    "    obs, _, done, _ = env.step(1) # Just taking right in every step\n",
    "    print(obs, env.state) #the observation and env.state are same\n",
    "    \n",
    "    if done:\n",
    "        break\n",
    "    env.render()\n"
   ]
  },
  {
   "cell_type": "code",
   "execution_count": null,
   "metadata": {},
   "outputs": [],
   "source": []
  }
 ],
 "metadata": {
  "kernelspec": {
   "display_name": "Python 3",
   "language": "python",
   "name": "python3"
  },
  "language_info": {
   "codemirror_mode": {
    "name": "ipython",
    "version": 3
   },
   "file_extension": ".py",
   "mimetype": "text/x-python",
   "name": "python",
   "nbconvert_exporter": "python",
   "pygments_lexer": "ipython3",
   "version": "3.8.2"
  }
 },
 "nbformat": 4,
 "nbformat_minor": 4
}
