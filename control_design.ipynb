{
 "cells": [
  {
   "cell_type": "code",
   "execution_count": 31,
   "metadata": {},
   "outputs": [],
   "source": [
    "import sys, os\n",
    "CURRENT_TEST_DIR = os.getcwd()\n",
    "sys.path.append(CURRENT_TEST_DIR + \"/pendulum_problem\")"
   ]
  },
  {
   "cell_type": "markdown",
   "metadata": {},
   "source": [
    "# Outline\n",
    "1. PID\n",
    "2. Full State Feedback\n",
    "3. LQR"
   ]
  },
  {
   "cell_type": "code",
   "execution_count": 32,
   "metadata": {},
   "outputs": [],
   "source": [
    "from control.matlab import *\n",
    "import numpy as np\n",
    "import gym\n",
    "from CartPoleEnv import CartPoleEnv"
   ]
  },
  {
   "cell_type": "code",
   "execution_count": 33,
   "metadata": {},
   "outputs": [
    {
     "name": "stderr",
     "output_type": "stream",
     "text": [
      "/home/tasbolat/tas_python_env/lib/python3.8/site-packages/gym/logger.py:30: UserWarning: \u001b[33mWARN: Box bound precision lowered by casting to float32\u001b[0m\n",
      "  warnings.warn(colorize('%s: %s'%('WARN', msg % args), 'yellow'))\n"
     ]
    }
   ],
   "source": [
    "# let's define state space representation\n",
    "env = CartPoleEnv()"
   ]
  },
  {
   "cell_type": "markdown",
   "metadata": {},
   "source": [
    "## Define problem"
   ]
  },
  {
   "cell_type": "markdown",
   "metadata": {},
   "source": [
    "Dynamics of the problem is given as following:\n",
    "\\begin{equation}\n",
    "\\ddot{ \\theta } = \\frac{ gsin{\\theta} + cos{\\theta} ( \\frac{-F-m_p\\dot{\\theta}^2sin{\\theta}}{m_c + m_p}) } {l (\\frac{4}{3} - \\frac{m_pcos^2{\\theta}}{m_c+m_p})}\n",
    "\\end{equation}\n",
    "\n",
    "\\begin{equation}\n",
    "\\ddot{x} = \\frac{F+m_pl(\\dot{\\theta}^2sin{\\theta} - \\ddot{\\theta}cos{\\theta})}{m_c+m_p}\n",
    "\\end{equation}"
   ]
  },
  {
   "cell_type": "markdown",
   "metadata": {},
   "source": [
    "Linearize around $x=0$, $\\dot{x}=0$, $\\theta=0$ and $\\dot{\\theta}=0$:\n",
    "\\begin{equation}\n",
    "x = \\begin{bmatrix}\n",
    "p\\\\\n",
    "\\dot{p}\\\\\n",
    "\\theta\\\\\n",
    "\\dot{\\theta}\n",
    "\\end{bmatrix}\n",
    "\\end{equation}\n",
    "\\begin{equation}\n",
    "A = \\begin{bmatrix}\n",
    "0 & 1 & 0 & 0\\\\\n",
    "0 & 0 & \\frac{-12m_pg}{13m_c+m_p} & 0\\\\\n",
    "0 & 0 & 0 & 1\\\\\n",
    "0 & 0 & \\frac{12g(m_p + m_c)}{13m_c+m_p} & 0\n",
    "\\end{bmatrix}\n",
    "\\end{equation}\n",
    "\\begin{equation}\n",
    "B = \\begin{bmatrix}\n",
    "0\\\\\n",
    "\\frac{13}{13m_c+m_p}\\\\\n",
    "0\\\\\n",
    "\\frac{-12}{13m_c+m_p}\n",
    "\\end{bmatrix}\n",
    "\\end{equation}\n",
    "\n",
    "then,\n",
    "continious state space representation:\n",
    "$$\\dot{x}(t) = Ax(t) + Bu(t) $$\n",
    "$$\\dot{y}(t) = x(t)$$"
   ]
  },
  {
   "cell_type": "code",
   "execution_count": 140,
   "metadata": {},
   "outputs": [],
   "source": [
    "A = np.array( [[0, 1, 0, 0],\n",
    "               [0, 0, -12*env.masspole*env.force_mag/(13*env.masscart + env.masspole), 0],\n",
    "              [0, 0, 0, 1],\n",
    "              [0, 0, 12*(env.masspole*env.force_mag + env.masscart*env.force_mag)/(env.length*(13*env.masscart + env.masspole)) , 0]] )\n",
    "B= np.array( [[0], [13/(13*env.masscart + env.masspole)], [0], [-12/(env.length*(13*env.masscart + env.masspole))]] )\n",
    "C = np.array( [1, 1, 1, 1] )\n",
    "D = 0"
   ]
  },
  {
   "cell_type": "code",
   "execution_count": 142,
   "metadata": {},
   "outputs": [],
   "source": [
    "sys = StateSpace(A, B, C, D)"
   ]
  },
  {
   "cell_type": "code",
   "execution_count": 145,
   "metadata": {
    "scrolled": true
   },
   "outputs": [
    {
     "data": {
      "text/latex": [
       "$$\\frac{-0.8397 s^3 - 0.8397 s^2 - 18.32 s - 18.32}{s^4 + 2.665 \\times 10^{-15} s^3 - 20.15 s^2 + 5.684 \\times 10^{-14} s + 2.753 \\times 10^{-14}}$$"
      ],
      "text/plain": [
       "\n",
       "        -0.8397 s^3 - 0.8397 s^2 - 18.32 s - 18.32\n",
       "---------------------------------------------------------\n",
       "s^4 + 2.665e-15 s^3 - 20.15 s^2 + 5.684e-14 s + 2.753e-14"
      ]
     },
     "execution_count": 145,
     "metadata": {},
     "output_type": "execute_result"
    }
   ],
   "source": [
    "ss2tf(sys)"
   ]
  },
  {
   "cell_type": "code",
   "execution_count": 96,
   "metadata": {},
   "outputs": [],
   "source": [
    "# let's define pid feedback\n",
    "Kp = 1\n",
    "Ki = 0\n",
    "Kd = 75"
   ]
  },
  {
   "cell_type": "code",
   "execution_count": 97,
   "metadata": {},
   "outputs": [],
   "source": [
    "feedback_gain_sys = Kp*tf('s') + Ki*tf('s') + Kd*tf('s')/( env.tau * tf('s') + 1 )"
   ]
  },
  {
   "cell_type": "code",
   "execution_count": 111,
   "metadata": {},
   "outputs": [],
   "source": [
    "closed_loop_PID = feedback(ss2tf(sys)*feedback_gain_sys, 1) "
   ]
  },
  {
   "cell_type": "code",
   "execution_count": 112,
   "metadata": {},
   "outputs": [
    {
     "data": {
      "text/plain": [
       "array([ 1.95991242e+04+0.j        , -2.08749814e-02+4.73755711j,\n",
       "       -2.08749814e-02-4.73755711j, -9.87237240e-01+0.j        ,\n",
       "        1.97746303e-17+0.j        ])"
      ]
     },
     "execution_count": 112,
     "metadata": {},
     "output_type": "execute_result"
    }
   ],
   "source": [
    "pole( closed_loop_PID )"
   ]
  },
  {
   "cell_type": "code",
   "execution_count": 146,
   "metadata": {},
   "outputs": [
    {
     "data": {
      "text/plain": [
       "(array([ 1.95991242e+04+0.j        , -2.08749814e-02+4.73755711j,\n",
       "        -2.08749814e-02-4.73755711j, -9.87237240e-01+0.j        ,\n",
       "         1.97746303e-17+0.j        ]),\n",
       " array([-3.80000000e+03+0.j        , -5.55111512e-16+4.67099366j,\n",
       "        -5.55111512e-16-4.67099366j, -1.00000000e+00+0.j        ,\n",
       "         0.00000000e+00+0.j        ]))"
      ]
     },
     "execution_count": 146,
     "metadata": {},
     "output_type": "execute_result"
    },
    {
     "data": {
      "image/png": "[encoded data removed]",
      "text/plain": [
       "<Figure size 432x288 with 1 Axes>"
      ]
     },
     "metadata": {
      "needs_background": "light"
     },
     "output_type": "display_data"
    }
   ],
   "source": [
    "pzmap(closed_loop_PID)"
   ]
  },
  {
   "cell_type": "markdown",
   "metadata": {},
   "source": [
    "PID:\n",
    "1. Mostly designed for SISO systems (use something else for MIMO)\n",
    "2. Cannot easily achieve stable results if system is non-linear\n",
    "3. Integral Windup -> cannot be easily solved"
   ]
  },
  {
   "cell_type": "markdown",
   "metadata": {},
   "source": [
    "## Full State Feedback"
   ]
  },
  {
   "cell_type": "markdown",
   "metadata": {},
   "source": [
    "![alt text](pole_placement.png \"Title\")"
   ]
  },
  {
   "cell_type": "code",
   "execution_count": 139,
   "metadata": {},
   "outputs": [
    {
     "data": {
      "text/plain": [
       "matrix([[ -34.3875    ,  -47.32375   , -174.27239583,  -41.46286458]])"
      ]
     },
     "execution_count": 139,
     "metadata": {},
     "output_type": "execute_result"
    }
   ],
   "source": [
    "poles = np.array([-15, -6, -7, -1]) # seems very stable\n",
    "K_FSF = place(A, B, poles)\n",
    "K_FSF"
   ]
  },
  {
   "cell_type": "code",
   "execution_count": 148,
   "metadata": {},
   "outputs": [],
   "source": [
    "A_fsb = A-K_FSF*B"
   ]
  },
  {
   "cell_type": "markdown",
   "metadata": {},
   "source": [
    "FSF:\n",
    "1. Sometimes control is expensive, cannot afford\n",
    "2. Balancing between states and control unput is not intuitive"
   ]
  },
  {
   "cell_type": "markdown",
   "metadata": {},
   "source": [
    "## LQR"
   ]
  },
  {
   "cell_type": "code",
   "execution_count": 127,
   "metadata": {},
   "outputs": [],
   "source": [
    "Q = np.eye(4)*0.1 # can make more mistake here\n",
    "R = np.eye(1)*100 # control is expensive"
   ]
  },
  {
   "cell_type": "markdown",
   "metadata": {},
   "source": [
    "simply, minimize this cost\n",
    "$$J = \\int_0^{\\infty} x^T(t)Qx(t) + u^T(t)Ru(t)$$"
   ]
  },
  {
   "cell_type": "code",
   "execution_count": 128,
   "metadata": {},
   "outputs": [],
   "source": [
    "K, S, E = lqr(A, B, Q, R)"
   ]
  },
  {
   "cell_type": "code",
   "execution_count": 129,
   "metadata": {},
   "outputs": [
    {
     "data": {
      "text/plain": [
       "matrix([[ -0.03162278,  -0.27975715, -23.21652068,  -5.18415829]])"
      ]
     },
     "execution_count": 129,
     "metadata": {},
     "output_type": "execute_result"
    }
   ],
   "source": [
    "K"
   ]
  },
  {
   "cell_type": "code",
   "execution_count": 157,
   "metadata": {},
   "outputs": [
    {
     "data": {
      "text/plain": [
       "array([-4.5175486 +0.j        , -4.4610095 +0.j        ,\n",
       "       -0.12075746+0.11901846j, -0.12075746-0.11901846j], dtype=complex64)"
      ]
     },
     "execution_count": 157,
     "metadata": {},
     "output_type": "execute_result"
    }
   ],
   "source": [
    "E"
   ]
  },
  {
   "cell_type": "markdown",
   "metadata": {},
   "source": [
    "LQR:\n",
    "1. Great, but system shall be linear\n",
    "2. Model must be known"
   ]
  },
  {
   "cell_type": "markdown",
   "metadata": {},
   "source": [
    "Read up:\n",
    "1. iLQR (iterative version) - extension of LQR\n",
    "2. "
   ]
  }
 ],
 "metadata": {
  "kernelspec": {
   "display_name": "Python 3",
   "language": "python",
   "name": "python3"
  },
  "language_info": {
   "codemirror_mode": {
    "name": "ipython",
    "version": 3
   },
   "file_extension": ".py",
   "mimetype": "text/x-python",
   "name": "python",
   "nbconvert_exporter": "python",
   "pygments_lexer": "ipython3",
   "version": "3.8.5"
  }
 },
 "nbformat": 4,
 "nbformat_minor": 4
}
